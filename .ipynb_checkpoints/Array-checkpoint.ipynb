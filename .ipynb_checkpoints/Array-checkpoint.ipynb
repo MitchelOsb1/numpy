{
 "cells": [
  {
   "cell_type": "code",
   "execution_count": 237,
   "metadata": {},
   "outputs": [],
   "source": [
    "import sys\n",
    "import numpy as np\n",
    "import matplotlib.pyplot as plt\n",
    "import matplotlib.image as mpimg\n",
    "\n",
    "def rand(r, c):\n",
    "    x = np.random.rand(r, c)\n",
    "    return(x)\n",
    "\n",
    "def sequ(r, c):\n",
    "    x = r*c\n",
    "    y = np.arange(0, x, dtype=np.float).reshape(r,c)\n",
    "    return (y)\n",
    "\n",
    "def inc(n):\n",
    "    x = np.linspace(0, 1, n).reshape(1, n)\n",
    "    if ((1, n) != x.shape):\n",
    "        return (0)\n",
    "    return (x)\n",
    "\n",
    "def extract(n):\n",
    "    x = np.arange(0, 120, dtype=np.float).reshape(10, 12)\n",
    "    x = x[0:5, 7:12]\n",
    "    return (x)\n",
    "\n",
    "def matplot(m, n):\n",
    "    arr = inc(m)\n",
    "    mar = arr * n\n",
    "    return(plt.imshow(mar, aspect=n))\n",
    "\n",
    "def img():\n",
    "    img = mpimg.imread('lt.png')\n",
    "    return (img)"
   ]
  },
  {
   "cell_type": "code",
   "execution_count": 238,
   "metadata": {},
   "outputs": [
    {
     "data": {
      "text/plain": [
       "array([[[ 0.24705882,  0.56078434,  0.94901961],\n",
       "        [ 0.24705882,  0.56078434,  0.94901961],\n",
       "        [ 0.25098041,  0.56470591,  0.95294118],\n",
       "        ..., \n",
       "        [ 0.39607844,  0.28235295,  0.2       ],\n",
       "        [ 0.26666668,  0.23921569,  0.20784314],\n",
       "        [ 0.24705882,  0.25490198,  0.19607843]],\n",
       "\n",
       "       [[ 0.25098041,  0.56470591,  0.95294118],\n",
       "        [ 0.25098041,  0.56470591,  0.95294118],\n",
       "        [ 0.25098041,  0.56470591,  0.95294118],\n",
       "        ..., \n",
       "        [ 0.31764707,  0.26274511,  0.12156863],\n",
       "        [ 0.21960784,  0.21960784,  0.12156863],\n",
       "        [ 0.25490198,  0.21568628,  0.13725491]],\n",
       "\n",
       "       [[ 0.24705882,  0.56862748,  0.95686275],\n",
       "        [ 0.24313726,  0.56470591,  0.95294118],\n",
       "        [ 0.23921569,  0.56078434,  0.94901961],\n",
       "        ..., \n",
       "        [ 0.19607843,  0.22745098,  0.20784314],\n",
       "        [ 0.27450982,  0.3019608 ,  0.27450982],\n",
       "        [ 0.29803923,  0.29803923,  0.27058825]],\n",
       "\n",
       "       ..., \n",
       "       [[ 0.01960784,  0.25882354,  0.32941177],\n",
       "        [ 0.01960784,  0.25882354,  0.32941177],\n",
       "        [ 0.01960784,  0.24313726,  0.30980393],\n",
       "        ..., \n",
       "        [ 0.51372552,  0.61176473,  0.41960785],\n",
       "        [ 0.77254903,  0.84705883,  0.78823531],\n",
       "        [ 0.99215686,  1.        ,  1.        ]],\n",
       "\n",
       "       [[ 0.00392157,  0.24705882,  0.3137255 ],\n",
       "        [ 0.01176471,  0.24313726,  0.30588236],\n",
       "        [ 0.00784314,  0.23921569,  0.3019608 ],\n",
       "        ..., \n",
       "        [ 0.59215689,  0.72156864,  0.52156866],\n",
       "        [ 0.91764706,  0.97254902,  0.8509804 ],\n",
       "        [ 0.96078432,  0.90588236,  0.80392158]],\n",
       "\n",
       "       [[ 0.        ,  0.27450982,  0.33725491],\n",
       "        [ 0.        ,  0.26666668,  0.33725491],\n",
       "        [ 0.        ,  0.26274511,  0.32156864],\n",
       "        ..., \n",
       "        [ 0.63921571,  0.76862746,  0.5411765 ],\n",
       "        [ 0.83529413,  0.90980393,  0.6156863 ],\n",
       "        [ 0.76078433,  0.82745099,  0.49019608]]], dtype=float32)"
      ]
     },
     "execution_count": 238,
     "metadata": {},
     "output_type": "execute_result"
    }
   ],
   "source": [
    "img()"
   ]
  },
  {
   "cell_type": "code",
   "execution_count": null,
   "metadata": {},
   "outputs": [],
   "source": []
  },
  {
   "cell_type": "code",
   "execution_count": null,
   "metadata": {},
   "outputs": [],
   "source": []
  },
  {
   "cell_type": "code",
   "execution_count": null,
   "metadata": {},
   "outputs": [],
   "source": []
  },
  {
   "cell_type": "code",
   "execution_count": null,
   "metadata": {},
   "outputs": [],
   "source": []
  }
 ],
 "metadata": {
  "kernelspec": {
   "display_name": "Python 3",
   "language": "python",
   "name": "python3"
  },
  "language_info": {
   "codemirror_mode": {
    "name": "ipython",
    "version": 3
   },
   "file_extension": ".py",
   "mimetype": "text/x-python",
   "name": "python",
   "nbconvert_exporter": "python",
   "pygments_lexer": "ipython3",
   "version": "3.6.4"
  }
 },
 "nbformat": 4,
 "nbformat_minor": 2
}
